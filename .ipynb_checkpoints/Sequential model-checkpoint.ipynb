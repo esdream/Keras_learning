{
 "cells": [
  {
   "cell_type": "markdown",
   "metadata": {},
   "source": [
    "## 序贯（Sequential）模型\n",
    "序贯模型是多个网络层的线性堆叠。\n",
    "\n",
    "Dense层是常用的全连接层，所实现的运算是`output = activation(dot(input, kernel)+bias)`。其中`activatio`n是逐元素计算的激活函数，`kernel`是本层的权值矩阵，`bias`为偏置向量，只有当`use_bias=True`才会添加。"
   ]
  },
  {
   "cell_type": "code",
   "execution_count": 5,
   "metadata": {
    "collapsed": true
   },
   "outputs": [],
   "source": [
    "from keras.models import Sequential\n",
    "from keras.layers import Dense, Activation\n",
    "\n",
    "model = Sequential([\n",
    "    Dense(input_shape=(32,), units=784),\n",
    "    Activation('relu'),\n",
    "    Dense(units=10),\n",
    "    Activation('softmax')\n",
    "])"
   ]
  },
  {
   "cell_type": "markdown",
   "metadata": {},
   "source": [
    "也可以通过`.add()`方法一个个地将layer加入模型中："
   ]
  },
  {
   "cell_type": "code",
   "execution_count": 7,
   "metadata": {
    "collapsed": true
   },
   "outputs": [],
   "source": [
    "model = Sequential()\n",
    "model.add(Dense(units=32, input_shape=(784, )))\n",
    "model.add(Activation('relu'))"
   ]
  },
  {
   "cell_type": "markdown",
   "metadata": {},
   "source": [
    "### 指定输入数据的shape\n",
    "Sequential的第一层需要接收一个关于输入模型shape的参数，后面各个层可以自动推导出中间数据的shape。有几种方法指定第一层输入数据的shape。\n",
    "\n",
    "+ 传递一个`input_shape`关键字给第一层，`input_shape`是一个tuple型数据，其中可以填入**None**，表示此位置**可能是任何正整数**，数据的batch_size不应包含在其中。\n",
    "+ 有些2D层，如Dense，支持通过指定其输入维度`input_dim`来隐含的指定输入数据shape。一些3D的时域层支持通过参数`input_dim`和`input_length`来指定输入shape。\n",
    "+ 如果你需要为输入指定一个固定大小的`batch_size`（常用于stateful RNN网络），可以传递batch_size参数到一个层中，例如你想指定输入张量的batch大小是32，数据shape是（6，8），则你需要传递`batch_size=32`和`input_shape=(6,8)`。"
   ]
  },
  {
   "cell_type": "markdown",
   "metadata": {},
   "source": [
    "### 编译\n",
    "`compile`接收三个参数。\n",
    "+ 优化器optimizer：可以传入预定义的优化器名，如`rmsprop`，`adagrad`。或一个`Optimizer`类的对象。\n",
    "+ 损失函数loss\n",
    "+ 指标列表metrics。对于分类问题，一般将该列表设置为`metrics=['accuracy']`"
   ]
  },
  {
   "cell_type": "code",
   "execution_count": 11,
   "metadata": {
    "collapsed": true
   },
   "outputs": [],
   "source": [
    "# For a multi-class classification problem\n",
    "model.compile(optimizer='rmsprop',\n",
    "              loss='categorical_crossentropy',\n",
    "              metrics=['accuracy'])\n",
    "\n",
    "# For a binary classification problem\n",
    "model.compile(optimizer='rmsprop',\n",
    "             loss='binary_crossentropy',\n",
    "             metrics=['accuracy'])\n",
    "\n",
    "# For a mean squared error regression problem\n",
    "model.compile(optimizer='rmsprop',\n",
    "             loss='mse')\n",
    "\n",
    "# 自定义指标\n",
    "import keras.backend as K\n",
    "\n",
    "def mean_pred(y_true, y_pred):\n",
    "    return K.mean(y_pred)\n",
    "\n",
    "model.compile(optimizer='rmsprop',\n",
    "             loss='binary_crossentropy',\n",
    "             metrics=['accuracy', mean_pred])"
   ]
  },
  {
   "cell_type": "markdown",
   "metadata": {},
   "source": [
    "### 训练\n",
    "Keras以Numpy数组作为输入数据和标签的数据类型。训练模型一般使用fit函数，该函数的详情见这里。下面是一些例子。"
   ]
  },
  {
   "cell_type": "code",
   "execution_count": 15,
   "metadata": {},
   "outputs": [
    {
     "name": "stdout",
     "output_type": "stream",
     "text": [
      "Epoch 1/10\n",
      "1000/1000 [==============================] - 1s 1ms/step - loss: 0.7033 - acc: 0.4960\n",
      "Epoch 2/10\n",
      "1000/1000 [==============================] - 0s 33us/step - loss: 0.6946 - acc: 0.5190\n",
      "Epoch 3/10\n",
      "1000/1000 [==============================] - 0s 34us/step - loss: 0.6881 - acc: 0.5390\n",
      "Epoch 4/10\n",
      "1000/1000 [==============================] - 0s 34us/step - loss: 0.6872 - acc: 0.5320\n",
      "Epoch 5/10\n",
      "1000/1000 [==============================] - 0s 35us/step - loss: 0.6828 - acc: 0.5570\n",
      "Epoch 6/10\n",
      "1000/1000 [==============================] - 0s 34us/step - loss: 0.6785 - acc: 0.5670\n",
      "Epoch 7/10\n",
      "1000/1000 [==============================] - 0s 32us/step - loss: 0.6738 - acc: 0.5800\n",
      "Epoch 8/10\n",
      "1000/1000 [==============================] - 0s 34us/step - loss: 0.6753 - acc: 0.5710\n",
      "Epoch 9/10\n",
      "1000/1000 [==============================] - 0s 32us/step - loss: 0.6693 - acc: 0.5810\n",
      "Epoch 10/10\n",
      "1000/1000 [==============================] - 0s 34us/step - loss: 0.6680 - acc: 0.6010\n"
     ]
    },
    {
     "data": {
      "text/plain": [
       "<keras.callbacks.History at 0x2a0af727eb8>"
      ]
     },
     "execution_count": 15,
     "metadata": {},
     "output_type": "execute_result"
    }
   ],
   "source": [
    "# For a single-input model with 2 classes (binary classification):\n",
    "model = Sequential()\n",
    "model.add(Dense(units=32, activation='relu', input_dim=100))\n",
    "model.add(Dense(units=1, activation='sigmoid'))\n",
    "model.compile(optimizer='rmsprop',\n",
    "              loss='binary_crossentropy',\n",
    "              metrics=['accuracy'])\n",
    "\n",
    "# Generate dummy data\n",
    "import numpy as np\n",
    "data = np.random.random((1000, 100))\n",
    "labels = np.random.randint(2, size=(1000, 1))\n",
    "\n",
    "# Train the model, iterating on the data in batches of 32 samples\n",
    "model.fit(data, labels, epochs=10, batch_size=32)"
   ]
  },
  {
   "cell_type": "code",
   "execution_count": 20,
   "metadata": {},
   "outputs": [
    {
     "name": "stdout",
     "output_type": "stream",
     "text": [
      "Epoch 1/50\n",
      "1000/1000 [==============================] - 0s 421us/step - loss: 2.3552 - acc: 0.0870\n",
      "Epoch 2/50\n",
      "1000/1000 [==============================] - 0s 37us/step - loss: 2.3123 - acc: 0.1080\n",
      "Epoch 3/50\n",
      "1000/1000 [==============================] - 0s 32us/step - loss: 2.3011 - acc: 0.1000\n",
      "Epoch 4/50\n",
      "1000/1000 [==============================] - 0s 36us/step - loss: 2.2903 - acc: 0.1190\n",
      "Epoch 5/50\n",
      "1000/1000 [==============================] - 0s 34us/step - loss: 2.2834 - acc: 0.1350\n",
      "Epoch 6/50\n",
      "1000/1000 [==============================] - 0s 35us/step - loss: 2.2748 - acc: 0.1350\n",
      "Epoch 7/50\n",
      "1000/1000 [==============================] - 0s 37us/step - loss: 2.2640 - acc: 0.1410\n",
      "Epoch 8/50\n",
      "1000/1000 [==============================] - 0s 33us/step - loss: 2.2582 - acc: 0.1550\n",
      "Epoch 9/50\n",
      "1000/1000 [==============================] - 0s 39us/step - loss: 2.2480 - acc: 0.1610\n",
      "Epoch 10/50\n",
      "1000/1000 [==============================] - 0s 35us/step - loss: 2.2390 - acc: 0.1680\n",
      "Epoch 11/50\n",
      "1000/1000 [==============================] - 0s 37us/step - loss: 2.2286 - acc: 0.1820\n",
      "Epoch 12/50\n",
      "1000/1000 [==============================] - 0s 35us/step - loss: 2.2189 - acc: 0.2020\n",
      "Epoch 13/50\n",
      "1000/1000 [==============================] - 0s 36us/step - loss: 2.2084 - acc: 0.2070\n",
      "Epoch 14/50\n",
      "1000/1000 [==============================] - 0s 37us/step - loss: 2.1996 - acc: 0.1970\n",
      "Epoch 15/50\n",
      "1000/1000 [==============================] - 0s 36us/step - loss: 2.1908 - acc: 0.2080\n",
      "Epoch 16/50\n",
      "1000/1000 [==============================] - 0s 35us/step - loss: 2.1803 - acc: 0.2300\n",
      "Epoch 17/50\n",
      "1000/1000 [==============================] - 0s 37us/step - loss: 2.1691 - acc: 0.2280\n",
      "Epoch 18/50\n",
      "1000/1000 [==============================] - 0s 36us/step - loss: 2.1602 - acc: 0.2310\n",
      "Epoch 19/50\n",
      "1000/1000 [==============================] - 0s 34us/step - loss: 2.1491 - acc: 0.2370\n",
      "Epoch 20/50\n",
      "1000/1000 [==============================] - 0s 33us/step - loss: 2.1376 - acc: 0.2470\n",
      "Epoch 21/50\n",
      "1000/1000 [==============================] - 0s 36us/step - loss: 2.1251 - acc: 0.2390\n",
      "Epoch 22/50\n",
      "1000/1000 [==============================] - 0s 34us/step - loss: 2.1128 - acc: 0.2690\n",
      "Epoch 23/50\n",
      "1000/1000 [==============================] - 0s 37us/step - loss: 2.1054 - acc: 0.2590\n",
      "Epoch 24/50\n",
      "1000/1000 [==============================] - 0s 38us/step - loss: 2.0945 - acc: 0.2770\n",
      "Epoch 25/50\n",
      "1000/1000 [==============================] - 0s 39us/step - loss: 2.0820 - acc: 0.2720\n",
      "Epoch 26/50\n",
      "1000/1000 [==============================] - 0s 36us/step - loss: 2.0725 - acc: 0.2860\n",
      "Epoch 27/50\n",
      "1000/1000 [==============================] - 0s 39us/step - loss: 2.0594 - acc: 0.2860\n",
      "Epoch 28/50\n",
      "1000/1000 [==============================] - 0s 37us/step - loss: 2.0487 - acc: 0.2850\n",
      "Epoch 29/50\n",
      "1000/1000 [==============================] - 0s 36us/step - loss: 2.0382 - acc: 0.2920\n",
      "Epoch 30/50\n",
      "1000/1000 [==============================] - 0s 37us/step - loss: 2.0262 - acc: 0.2990\n",
      "Epoch 31/50\n",
      "1000/1000 [==============================] - 0s 38us/step - loss: 2.0150 - acc: 0.3170\n",
      "Epoch 32/50\n",
      "1000/1000 [==============================] - 0s 37us/step - loss: 2.0014 - acc: 0.3050\n",
      "Epoch 33/50\n",
      "1000/1000 [==============================] - 0s 36us/step - loss: 1.9903 - acc: 0.3160\n",
      "Epoch 34/50\n",
      "1000/1000 [==============================] - 0s 39us/step - loss: 1.9800 - acc: 0.3340\n",
      "Epoch 35/50\n",
      "1000/1000 [==============================] - 0s 35us/step - loss: 1.9682 - acc: 0.3420\n",
      "Epoch 36/50\n",
      "1000/1000 [==============================] - 0s 35us/step - loss: 1.9490 - acc: 0.3580\n",
      "Epoch 37/50\n",
      "1000/1000 [==============================] - 0s 33us/step - loss: 1.9452 - acc: 0.3420\n",
      "Epoch 38/50\n",
      "1000/1000 [==============================] - 0s 37us/step - loss: 1.9315 - acc: 0.3480\n",
      "Epoch 39/50\n",
      "1000/1000 [==============================] - 0s 34us/step - loss: 1.9213 - acc: 0.3530\n",
      "Epoch 40/50\n",
      "1000/1000 [==============================] - 0s 35us/step - loss: 1.9075 - acc: 0.3730\n",
      "Epoch 41/50\n",
      "1000/1000 [==============================] - 0s 34us/step - loss: 1.8934 - acc: 0.3770\n",
      "Epoch 42/50\n",
      "1000/1000 [==============================] - 0s 34us/step - loss: 1.8868 - acc: 0.3730\n",
      "Epoch 43/50\n",
      "1000/1000 [==============================] - 0s 34us/step - loss: 1.8716 - acc: 0.4000\n",
      "Epoch 44/50\n",
      "1000/1000 [==============================] - 0s 34us/step - loss: 1.8645 - acc: 0.3860\n",
      "Epoch 45/50\n",
      "1000/1000 [==============================] - 0s 37us/step - loss: 1.8545 - acc: 0.3790\n",
      "Epoch 46/50\n",
      "1000/1000 [==============================] - 0s 34us/step - loss: 1.8429 - acc: 0.3980\n",
      "Epoch 47/50\n",
      "1000/1000 [==============================] - 0s 34us/step - loss: 1.8293 - acc: 0.4060\n",
      "Epoch 48/50\n",
      "1000/1000 [==============================] - 0s 35us/step - loss: 1.8224 - acc: 0.4000\n",
      "Epoch 49/50\n",
      "1000/1000 [==============================] - 0s 34us/step - loss: 1.8094 - acc: 0.4060\n",
      "Epoch 50/50\n",
      "1000/1000 [==============================] - 0s 36us/step - loss: 1.8008 - acc: 0.4220\n"
     ]
    },
    {
     "data": {
      "text/plain": [
       "<keras.callbacks.History at 0x2a0b2de1668>"
      ]
     },
     "execution_count": 20,
     "metadata": {},
     "output_type": "execute_result"
    }
   ],
   "source": [
    "# For a single-input model with 10 classes (categorical classification):\n",
    "\n",
    "model = Sequential()\n",
    "model.add(Dense(units=32, activation='relu', input_dim=100))\n",
    "model.add(Dense(units=10, activation='softmax'))\n",
    "model.compile(optimizer='rmsprop',\n",
    "              loss='categorical_crossentropy',\n",
    "              metrics=['accuracy'])\n",
    "\n",
    "import keras\n",
    "import numpy as np\n",
    "data = np.random.random((1000, 100))\n",
    "labels = np.random.randint(10, size=(1000, 1))\n",
    "\n",
    "# Convert labels to categorical onehot encoding\n",
    "one_hot_labels = keras.utils.to_categorical(labels, num_classes=10)\n",
    "\n",
    "model.fit(data, one_hot_labels, epochs=20, batch_size=32)"
   ]
  },
  {
   "cell_type": "markdown",
   "metadata": {},
   "source": [
    "## 案例\n",
    "### 基于多层感知器的softmax多分类"
   ]
  },
  {
   "cell_type": "code",
   "execution_count": 12,
   "metadata": {
    "scrolled": false
   },
   "outputs": [
    {
     "name": "stdout",
     "output_type": "stream",
     "text": [
      "Epoch 1/10\n",
      "1000/1000 [==============================] - 0s 399us/step - loss: 2.3576 - acc: 0.0920 - mean_pred: 0.1000\n",
      "Epoch 2/10\n",
      "1000/1000 [==============================] - 0s 22us/step - loss: 2.3372 - acc: 0.0980 - mean_pred: 0.1000\n",
      "Epoch 3/10\n",
      "1000/1000 [==============================] - 0s 23us/step - loss: 2.3095 - acc: 0.1150 - mean_pred: 0.1000\n",
      "Epoch 4/10\n",
      "1000/1000 [==============================] - 0s 25us/step - loss: 2.3139 - acc: 0.0960 - mean_pred: 0.1000\n",
      "Epoch 5/10\n",
      "1000/1000 [==============================] - 0s 23us/step - loss: 2.3128 - acc: 0.1050 - mean_pred: 0.1000\n",
      "Epoch 6/10\n",
      "1000/1000 [==============================] - 0s 25us/step - loss: 2.3201 - acc: 0.0860 - mean_pred: 0.1000\n",
      "Epoch 7/10\n",
      "1000/1000 [==============================] - 0s 22us/step - loss: 2.3006 - acc: 0.1200 - mean_pred: 0.1000\n",
      "Epoch 8/10\n",
      "1000/1000 [==============================] - 0s 27us/step - loss: 2.3148 - acc: 0.1100 - mean_pred: 0.1000\n",
      "Epoch 9/10\n",
      "1000/1000 [==============================] - 0s 23us/step - loss: 2.3068 - acc: 0.1080 - mean_pred: 0.1000\n",
      "Epoch 10/10\n",
      "1000/1000 [==============================] - 0s 27us/step - loss: 2.2976 - acc: 0.1180 - mean_pred: 0.1000\n",
      "100/100 [==============================] - 0s 610us/step\n",
      "[2.3003528118133545, 0.14000000059604645, 0.10000001639127731]\n"
     ]
    }
   ],
   "source": [
    "from keras.models import Sequential\n",
    "from keras.layers import Dense, Dropout, Activation\n",
    "from keras.optimizers import SGD\n",
    "\n",
    "import numpy as np\n",
    "import keras.backend as K\n",
    "\n",
    "def mean_pred(y_true, y_pred):\n",
    "    return K.mean(y_pred)\n",
    "\n",
    "x_train = np.random.random((1000, 20))\n",
    "y_train = keras.utils.to_categorical(np.random.randint(10, size=(1000, 1)), num_classes=10)\n",
    "x_test = np.random.random((100, 20))\n",
    "y_test = keras.utils.to_categorical(np.random.randint(10, size=(100, 1)), num_classes=10)\n",
    "\n",
    "model = Sequential()\n",
    "\n",
    "model.add(Dense(units=64, activation='relu', input_dim=20))\n",
    "model.add(Dropout(0.5))\n",
    "model.add(Dense(units=64, activation='relu'))\n",
    "model.add(Dropout(0.5))\n",
    "model.add(Dense(10, activation='softmax'))\n",
    "\n",
    "sgd = SGD(lr=0.01, decay=1e-6, momentum=0.9, nesterov=True)\n",
    "model.compile(loss='categorical_crossentropy',\n",
    "              optimizer=sgd,\n",
    "              metrics=['accuracy', mean_pred])\n",
    "\n",
    "model.fit(x_train, y_train, epochs=10, batch_size=128)\n",
    "score = model.evaluate(x_test, y_test, batch_size=128)\n",
    "print(score)"
   ]
  },
  {
   "cell_type": "markdown",
   "metadata": {
    "collapsed": true
   },
   "source": [
    "### 类似VGG的卷积神经网络\n",
    "\n",
    "1. Conv2D\n",
    "Conv2D中padding参数为valid或same。默认为valid。\n",
    "\n",
    "2. Dropout\n",
    "Dropout的比例是断开的神经元比例，也就是去除0.25（剩下0.75）。\n",
    "\n",
    "3. Flatten\n",
    "Flatten层将输入压平，把多维的输入一维化。\n",
    "\n",
    "4. model.evaluate()\n",
    "返回的结果对应compile中metrics参数列表，从第二个值开始对应，第一个值为loss值。假设将返回值变量赋给score，则`score[0] = loss, score[1] = metrics[0]，score[2] = metrics[1]`，以此类推。"
   ]
  },
  {
   "cell_type": "code",
   "execution_count": 2,
   "metadata": {},
   "outputs": [],
   "source": [
    "import numpy as np\n",
    "import keras\n",
    "from keras.models import Sequential\n",
    "from keras.layers import Dense, Dropout, Flatten, Conv2D, MaxPooling2D\n",
    "from keras.optimizers import SGD"
   ]
  },
  {
   "cell_type": "code",
   "execution_count": 3,
   "metadata": {
    "collapsed": true
   },
   "outputs": [],
   "source": [
    "x_train = np.random.random((100, 100, 100, 3))\n",
    "y_train = keras.utils.to_categorical(np.random.randint(10, size=(100, 1)), num_classes=10)\n",
    "x_test = np.random.random((20, 100, 100, 3))\n",
    "y_test = keras.utils.to_categorical(np.random.randint(10, size=(20, 1)), num_classes=10)"
   ]
  },
  {
   "cell_type": "code",
   "execution_count": 7,
   "metadata": {},
   "outputs": [
    {
     "name": "stdout",
     "output_type": "stream",
     "text": [
      "Epoch 1/10\n",
      "100/100 [==============================] - 6s 58ms/step - loss: 2.3940 - acc: 0.1300\n",
      "Epoch 2/10\n",
      "100/100 [==============================] - 5s 52ms/step - loss: 2.3822 - acc: 0.1300\n",
      "Epoch 3/10\n",
      "100/100 [==============================] - 5s 52ms/step - loss: 2.2893 - acc: 0.1600\n",
      "Epoch 4/10\n",
      "100/100 [==============================] - 6s 59ms/step - loss: 2.3117 - acc: 0.1600\n",
      "Epoch 5/10\n",
      "100/100 [==============================] - 5s 54ms/step - loss: 2.2886 - acc: 0.1200\n",
      "Epoch 6/10\n",
      "100/100 [==============================] - 5s 53ms/step - loss: 2.2717 - acc: 0.1800\n",
      "Epoch 7/10\n",
      "100/100 [==============================] - 5s 51ms/step - loss: 2.3134 - acc: 0.1900\n",
      "Epoch 8/10\n",
      "100/100 [==============================] - 6s 55ms/step - loss: 2.2906 - acc: 0.1300\n",
      "Epoch 9/10\n",
      "100/100 [==============================] - 5s 54ms/step - loss: 2.2776 - acc: 0.1600\n",
      "Epoch 10/10\n",
      "100/100 [==============================] - 6s 55ms/step - loss: 2.2895 - acc: 0.1400\n",
      "20/20 [==============================] - 0s 16ms/step\n"
     ]
    }
   ],
   "source": [
    "model = Sequential()\n",
    "# 这里使用了32个size为3*3卷积层\n",
    "model.add(Conv2D(32, (3, 3), activation='relu', input_shape=(100, 100, 3)))\n",
    "model.add(Conv2D(32, (3, 3), activation='relu'))\n",
    "model.add(MaxPooling2D(pool_size=(2, 2)))\n",
    "model.add(Dropout(0.25))\n",
    "\n",
    "# padding参数为valid或same。默认为valid\n",
    "model.add(Conv2D(64, (3, 3), activation='relu'))\n",
    "model.add(Conv2D(64, (3, 3), activation='relu'))\n",
    "model.add(MaxPooling2D(pool_size=(2, 2)))\n",
    "# dropout的比例是断开的神经元比例，也就是去除0.25（剩下0.75）\n",
    "model.add(Dropout(0.25))\n",
    "\n",
    "# Flatten层将输入压平，把多维的输入一维化\n",
    "model.add(Flatten())\n",
    "model.add(Dense(256, activation='relu'))\n",
    "model.add(Dropout(0.5))\n",
    "model.add(Dense(10, activation='softmax'))\n",
    "\n",
    "sgd = SGD(lr=0.01, decay=1e-6, momentum=0.9, nesterov=True)\n",
    "model.compile(loss='categorical_crossentropy', optimizer=sgd, metrics=['accuracy'])\n",
    "\n",
    "model.fit(x_train, y_train, batch_size=32, epochs=10)\n",
    "score = model.evaluate(x_test, y_test, batch_size=32)"
   ]
  }
 ],
 "metadata": {
  "kernelspec": {
   "display_name": "Python 3",
   "language": "python",
   "name": "python3"
  },
  "language_info": {
   "codemirror_mode": {
    "name": "ipython",
    "version": 3
   },
   "file_extension": ".py",
   "mimetype": "text/x-python",
   "name": "python",
   "nbconvert_exporter": "python",
   "pygments_lexer": "ipython3",
   "version": "3.6.1"
  }
 },
 "nbformat": 4,
 "nbformat_minor": 2
}
